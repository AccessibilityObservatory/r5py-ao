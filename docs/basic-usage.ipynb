{
 "cells": [
  {
   "cell_type": "markdown",
   "id": "f1c4253e",
   "metadata": {},
   "source": [
    "# Usage"
   ]
  },
  {
   "cell_type": "markdown",
   "id": "9319e933",
   "metadata": {},
   "source": [
    "## Command line utility\n",
    "\n",
    "TODO"
   ]
  },
  {
   "cell_type": "markdown",
   "id": "0b7459d8",
   "metadata": {},
   "source": [
    "```bash\n",
    "$ r5py travel-time-matrix somewhere.osm.pbf somehwere_gtfs.zip --origins grid-centroids.gpkg ...\n",
    "```"
   ]
  },
  {
   "cell_type": "markdown",
   "id": "cd224d77",
   "metadata": {},
   "source": [
    "## Python\n",
    "\n",
    "The entire functionality is exposed via r5py’s [Python API](reference.html)."
   ]
  },
  {
   "cell_type": "code",
   "execution_count": null,
   "id": "439ee015",
   "metadata": {
    "nbsphinx": "hidden",
    "tags": [
     "remove-cell"
    ]
   },
   "outputs": [],
   "source": [
    "# this cell is hidden from output\n",
    "# it’s used to \n",
    "# - import credentials\n",
    "# - hide the warnings that are displayed because \n",
    "#   of a current mismatch in geos versions between \n",
    "#   shapely and pygeos\n",
    "# - set sys.path to point to the local streetviewdownloader repo\n",
    "# - make ipython show all outputs of each cell\n",
    "# - provide a helper function to unobstrusively plot geometries\n"
   ]
  },
  {
   "cell_type": "markdown",
   "id": "53f7a7cc",
   "metadata": {},
   "source": [
    "### Load transport network\n",
    "\n",
    "Virtually all operations of r5py require a transport network. As input files to construct a transport network topology, r5py needs the following data sets:\n",
    "\n",
    "- The street network in the form of an OpenStreetMap extract covering the study area, prepared according to the instructions at https://docs.conveyal.com/prepare-inputs#preparing-the-osm-data, and possibly annotated with LADOT tags (see https://github.com/RSGInc/ladot_analysis_dataprep).\n",
    "- Public transport schedules in GTFS format (optional, r5py can combine multiple GTFS files)\n",
    "- TODO: elevation model\n",
    "\n",
    "In this example, we use data from Helsinki metropolitan area. TODO: reference data sources (OSM, HSL)\n",
    "\n",
    "To import the street and public transport networks, instantiate an `r5py.TransportNetwork` with the file paths to the OSM extract and the GTFS files:"
   ]
  },
  {
   "cell_type": "code",
   "execution_count": null,
   "id": "846bfb43",
   "metadata": {},
   "outputs": [],
   "source": [
    "from r5py import TransportNetwork\n",
    "\n",
    "transport_network = TransportNetwork(\n",
    "    \"data/paakaupunkiseutu.pbf\",\n",
    "    [\n",
    "        \"data/GTFS.zip\"\n",
    "    ]\n",
    ")"
   ]
  },
  {
   "cell_type": "markdown",
   "id": "d7b1101f-1f01-462a-9ee2-aa3522d0bdd5",
   "metadata": {},
   "source": [
    "## Compute a travel time matrix\n",
    "\n",
    "A travel time matrix is a data set detailing the travel costs (e.g., time) from each point to each point in a set of origins and destinations in a study area. \n",
    "\n",
    "For the sake of this exercise, we will create a regular grid of points covering parts of Helsinki."
   ]
  },
  {
   "cell_type": "code",
   "execution_count": null,
   "id": "e7ab7dde-aebb-483f-974b-d0382a5ab7c1",
   "metadata": {},
   "outputs": [],
   "source": [
    "import itertools\n",
    "import geopandas\n",
    "import numpy\n",
    "\n",
    "north_east = (24.97, 60.22)\n",
    "south_west = (24.90, 60.16)\n",
    "\n",
    "coordinates =  itertools.product(\n",
    "    numpy.arange(south_west[0], north_east[0], 0.01),\n",
    "    numpy.arange(south_west[1], north_east[1], 0.01)\n",
    ")\n",
    "\n",
    "x, y = zip(*coordinates)\n",
    "\n",
    "grid_points = geopandas.GeoDataFrame({\n",
    "    \"id\": range(len(list(x))),\n",
    "    \"geometry\": geopandas.GeoSeries.from_xy(\n",
    "     x,y\n",
    "    )\n",
    "})\n",
    "grid_points.plot()\n",
    "grid_points.head()"
   ]
  },
  {
   "cell_type": "markdown",
   "id": "3f1cdb94-b40f-4b83-8be2-a813b2833fef",
   "metadata": {},
   "source": [
    "Now, to compute a travel time matrix between all `grid_points`, we first instantiate an `r5py.TravelTimeMatrix` with the transport network we created earlier, and a list of origins (since we don’t specify a separate set of destinations, r5py will use the same points as destinations and produce a full set of origins and destinations). The constructor also accepts all parameters of [RegionalTask](reference.html#r5py.RegionalTask), such as transport modes, or walking speed. \n",
    "\n",
    "Calling `compute_travel_times()` on the instance will return a `pandas.DataFrame` with travel times between all points."
   ]
  },
  {
   "cell_type": "code",
   "execution_count": null,
   "id": "b5dabcc1-95a4-4c9f-86ab-533d2c752716",
   "metadata": {},
   "outputs": [],
   "source": [
    "import datetime\n",
    "\n",
    "from r5py import TravelTimeMatrix, TransitMode, LegMode\n",
    "\n",
    "\n",
    "travel_time_matrix = TravelTimeMatrix(\n",
    "    transport_network,\n",
    "    origins=grid_points,\n",
    "    departure=datetime.datetime(2022,2,22,8,30),\n",
    "    transport_modes=[TransitMode.TRANSIT, LegMode.WALK]\n",
    ")\n",
    "travel_times = travel_time_matrix.compute_travel_times()\n",
    "travel_times"
   ]
  },
  {
   "cell_type": "code",
   "execution_count": null,
   "id": "241d40a5",
   "metadata": {},
   "outputs": [],
   "source": [
    "from streetviewdownloader import StreetViewDownloader\n",
    "\n",
    "downloader = StreetViewDownloader(API_KEY, URL_SIGNING_KEY)\n",
    "downloader.download(kirkkonummi, output_directory)"
   ]
  },
  {
   "cell_type": "markdown",
   "id": "9727e479",
   "metadata": {},
   "source": [
    "This downloads the metadata to `metadata.gpkg`, and all images into the output directory. Note that, by default, data is appended to an existing metadata dataset, and images existing in the directory are not downloaded again. If you want the metadata only, call `download()` with `metadata_only=True`.\n",
    "\n",
    "Depending on the location and size of the extent, this operation can take a while. In the background, Streetviewdownloader carries out multiple steps:\n",
    "\n",
    "1. Decide which OSM extract from either geofabrik.de or bbbike.org fits best for the extent (the smallest extract in which the extent is fully contained)\n",
    "2. Download this OSM extract, and extract and clip the street network to the extent\n",
    "3. Generate a point data set on this street network with at most 25 meter distance between points\n",
    "4. Query the StreetView Static API for panoramas in the immediate vicinity of each point (and remove duplicates afterwards)\n",
    "5. Download six images each for every panorama.\n",
    "\n",
    "The results of the first two steps are cached for up to seven days, as they are the most expensive ones in respect to download time and processing time. They should complete fast in subsequent runs."
   ]
  }
 ],
 "metadata": {
  "kernelspec": {
   "display_name": "Python 3 (ipykernel)",
   "language": "python",
   "name": "python3"
  },
  "language_info": {
   "codemirror_mode": {
    "name": "ipython",
    "version": 3
   },
   "file_extension": ".py",
   "mimetype": "text/x-python",
   "name": "python",
   "nbconvert_exporter": "python",
   "pygments_lexer": "ipython3",
   "version": "3.10.4"
  }
 },
 "nbformat": 4,
 "nbformat_minor": 5
}
